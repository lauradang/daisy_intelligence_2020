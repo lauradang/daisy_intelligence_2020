{
 "cells": [
  {
   "cell_type": "code",
   "execution_count": 28,
   "metadata": {},
   "outputs": [],
   "source": [
    "import pandas as pd\n",
    "import re\n",
    "from fuzzywuzzy import process, fuzz"
   ]
  },
  {
   "cell_type": "code",
   "execution_count": 40,
   "metadata": {},
   "outputs": [],
   "source": [
    "products = list(pd.read_csv(\"product_dictionary.csv\")[\"product_name\"])\n",
    "products.sort(key=len, reverse=True)\n",
    "\n",
    "columns = [\n",
    "    \"flyer_name\",\n",
    "    \"product_name\",\n",
    "    \"unit_promo_price\",\n",
    "    \"uom\",\n",
    "    \"least_unit_for_promo\",\n",
    "    \"save_per_unit\",\n",
    "    \"discount\",\n",
    "    \"organic\"\n",
    "]\n",
    "\n",
    "# df = pd.DataFrame(columns=columns)\n",
    "flyer_name = process.extract(\"Boston Butt Pork Roast and Boneless\", products)\n",
    "# looping through line by line\n",
    "for i in range(8):\n",
    "#     flyer_name = re.findall(\"\\#.*\\#\", )[0]\n",
    "    choices = process.extract(\"Boston Butt Pork Roast and Boneless\", products)\n",
    "    \n",
    "    # Tentative:\n",
    "    prod_names = [name for name, num in choices]\n",
    "    prod_names.sort(key=len, reverse=True)\n",
    "    flyer_name = prod_names[0]\n",
    "    \n",
    "    df.loc[i] = [\n",
    "        flyer_name, \n",
    "        2, \n",
    "        3, \n",
    "        4, \n",
    "        5, \n",
    "        6, \n",
    "        7, \n",
    "        8\n",
    "    ]"
   ]
  },
  {
   "cell_type": "code",
   "execution_count": 49,
   "metadata": {},
   "outputs": [],
   "source": [
    "flyer_name = \"fdsklfjds\""
   ]
  },
  {
   "cell_type": "code",
   "execution_count": 55,
   "metadata": {
    "scrolled": false
   },
   "outputs": [],
   "source": [
    "organic = re.findall(r\"(?i)organic\", flyer_name)"
   ]
  },
  {
   "cell_type": "code",
   "execution_count": 56,
   "metadata": {},
   "outputs": [
    {
     "data": {
      "text/plain": [
       "[]"
      ]
     },
     "execution_count": 56,
     "metadata": {},
     "output_type": "execute_result"
    }
   ],
   "source": []
  },
  {
   "cell_type": "code",
   "execution_count": null,
   "metadata": {},
   "outputs": [],
   "source": []
  }
 ],
 "metadata": {
  "kernelspec": {
   "display_name": "Python 3",
   "language": "python",
   "name": "python3"
  },
  "language_info": {
   "codemirror_mode": {
    "name": "ipython",
    "version": 3
   },
   "file_extension": ".py",
   "mimetype": "text/x-python",
   "name": "python",
   "nbconvert_exporter": "python",
   "pygments_lexer": "ipython3",
   "version": "3.7.3"
  }
 },
 "nbformat": 4,
 "nbformat_minor": 4
}
