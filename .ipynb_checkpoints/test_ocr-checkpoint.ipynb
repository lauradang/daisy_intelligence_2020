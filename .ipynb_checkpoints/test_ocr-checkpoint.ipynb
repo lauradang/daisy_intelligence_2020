{
 "cells": [
  {
   "cell_type": "code",
   "execution_count": 12,
   "metadata": {},
   "outputs": [],
   "source": [
    "import cv2\n",
    "import os\n",
    "from PIL import Image\n",
    "import pytesseract\n",
    "import numpy as np"
   ]
  },
  {
   "cell_type": "code",
   "execution_count": 22,
   "metadata": {},
   "outputs": [
    {
     "data": {
      "text/plain": [
       "'NE\\n]\\n\\n= BOGO |NoN-cmo] FRESH\\n\\nJon 2\\n\\nbon\\nillets\\n\\n   \\n\\nIn. No Additives\\n~hes-Inspired\\nat Register\\nIN, & Canton, OH'"
      ]
     },
     "execution_count": 22,
     "metadata": {},
     "output_type": "execute_result"
    }
   ],
   "source": [
    "# Load the image\n",
    "img = cv2.imread('cropped_images/contoured_temp4.jpg')\n",
    "\n",
    "# convert to grayscale\n",
    "thresh = cv2.cvtColor(img,cv2.COLOR_BGR2GRAY)\n",
    "\n",
    "# smooth the image to avoid noises\n",
    "thresh_color = cv2.medianBlur(thresh,5)\n",
    "\n",
    "filename = \"{}.png\".format(\"avocado_thresh\")\n",
    "cv2.imwrite(filename, thresh_color)\n",
    "    \n",
    "text = pytesseract.image_to_string(Image.open(filename))\n",
    "\n",
    "# cv2.imwrite('img.jpg',img)\n",
    "cv2.imwrite('res.jpg',thresh_color)\n",
    "text"
   ]
  },
  {
   "cell_type": "code",
   "execution_count": null,
   "metadata": {},
   "outputs": [],
   "source": [
    "############"
   ]
  },
  {
   "cell_type": "code",
   "execution_count": 3,
   "metadata": {},
   "outputs": [
    {
     "data": {
      "text/plain": [
       "True"
      ]
     },
     "execution_count": 3,
     "metadata": {},
     "output_type": "execute_result"
    }
   ],
   "source": [
    "import cv2\n",
    "import os\n",
    "from PIL import Image\n",
    "import pytesseract\n",
    "import numpy as np\n",
    "\n",
    "# Load the image\n",
    "img = cv2.imread('cropped_images/contoured_temp2.jpg')\n",
    "\n",
    "# convert to grayscale\n",
    "thresh_colour = cv2.cvtColor(img,cv2.COLOR_BGR2GRAY)\n",
    "\n",
    "# smooth the image to avoid noises\n",
    "# thresh = cv2.medianBlur(thresh_colour,5)\n",
    "\n",
    "# Apply adaptive threshold\n",
    "# thresh = cv2.adaptiveThreshold(thresh_color,255,1,1,11,2)\n",
    "# thresh_color = cv2.cvtColor(thresh,cv2.COLOR_GRAY2BGR)\n",
    "# contours,hierarchy = cv2.findContours(thresh,cv2.RETR_TREE,cv2.CHAIN_APPROX_SIMPLE)\n",
    "\n",
    "# thresh = cv2.dilate(thresh,None,iterations = 1)\n",
    "# thresh = cv2.erode(thresh,None,iterations = 1)\n",
    "# thresh = cv2.medianBlur(thresh,3)\n",
    "# kernel = np.array([[-1,-1,-1], [-1,9,-1], [-1,-1,-1]])\n",
    "# thresh = cv2.filter2D(thresh, -1, kernel)\n",
    "\n",
    "filename = \"{}.png\".format(\"avocado_thresh\")\n",
    "cv2.imwrite(filename, thresh)\n",
    "    \n",
    "text = pytesseract.image_to_string(Image.open(filename))\n",
    "\n",
    "# cv2.imwrite('img.jpg',img)\n",
    "cv2.imwrite('res.jpg',thresh_color)"
   ]
  },
  {
   "cell_type": "code",
   "execution_count": 4,
   "metadata": {},
   "outputs": [
    {
     "data": {
      "text/plain": [
       "'HEALTHY REWARDS\\nOFFER WITH CARD |\\n\\n \\n\\n   \\n \\n\\nSAVE $1 on 4\\n\\nHass Avocados\\nAn excellant source of Segre\\nhee thy Omega: 3 fats Ce:\\n\\nDiscount Taken at Register'"
      ]
     },
     "execution_count": 4,
     "metadata": {},
     "output_type": "execute_result"
    }
   ],
   "source": [
    "text"
   ]
  },
  {
   "cell_type": "code",
   "execution_count": null,
   "metadata": {},
   "outputs": [],
   "source": [
    "#### WORKS FOR TEMP2\n",
    "import cv2\n",
    "import os\n",
    "from PIL import Image\n",
    "import pytesseract\n",
    "import numpy as np\n",
    "\n",
    "# Load the image\n",
    "img = cv2.imread('cropped_images/contoured_temp2.jpg')\n",
    "\n",
    "# convert to grayscale\n",
    "thresh = cv2.cvtColor(img,cv2.COLOR_BGR2GRAY)\n",
    "\n",
    "# smooth the image to avoid noises\n",
    "thresh_color = cv2.medianBlur(thresh,5)\n",
    "\n",
    "filename = \"{}.png\".format(\"avocado_thresh\")\n",
    "cv2.imwrite(filename, thresh_color)\n",
    "    \n",
    "text = pytesseract.image_to_string(Image.open(filename))\n",
    "\n",
    "# cv2.imwrite('img.jpg',img)\n",
    "cv2.imwrite('res.jpg',thresh_color)\n",
    "text"
   ]
  },
  {
   "cell_type": "code",
   "execution_count": 26,
   "metadata": {},
   "outputs": [
    {
     "data": {
      "text/plain": [
       "True"
      ]
     },
     "execution_count": 26,
     "metadata": {},
     "output_type": "execute_result"
    }
   ],
   "source": [
    "\n",
    "# Load the image\n",
    "img = cv2.imread('cropped_images/contoured_temp2.jpg')\n",
    "\n",
    "# convert to grayscale\n",
    "gray = cv2.cvtColor(img,cv2.COLOR_BGR2GRAY)\n",
    "\n",
    "# smooth the image to avoid noises\n",
    "gray = cv2.medianBlur(gray,5)\n",
    "\n",
    "# Apply adaptive threshold\n",
    "thresh = cv2.adaptiveThreshold(gray,255,1,1,11,2)\n",
    "thresh_color = cv2.cvtColor(thresh,cv2.COLOR_GRAY2BGR)\n",
    "\n",
    "# apply some dilation and erosion to join the gaps - change iteration to detect more or less area's\n",
    "thresh = cv2.dilate(thresh,None,iterations = 18)\n",
    "thresh = cv2.erode(thresh,None,iterations = 30)\n",
    "\n",
    "# Find the contours\n",
    "contours, hierarchy = cv2.findContours(thresh,cv2.RETR_TREE,cv2.CHAIN_APPROX_SIMPLE)\n",
    "\n",
    "# For each contour, find the bounding rectangle and draw it\n",
    "for i, cnt in enumerate(contours):\n",
    "    x,y,w,h = cv2.boundingRect(cnt)\n",
    "    \n",
    "    if h < 150 or w < 150:\n",
    "        continue\n",
    "    \n",
    "    x_top_left_corner = x - 150\n",
    "    y_top_left_corner = y - 30\n",
    "\n",
    "    x_bottom_right_corner = x + w + 150\n",
    "    y_bottom_right_corner = y + h + 80\n",
    "\n",
    "    cv2.rectangle(\n",
    "        img,\n",
    "        (x_top_left_corner, y_top_left_corner),\n",
    "        (x_bottom_right_corner, y_bottom_right_corner),\n",
    "        (0,255,0),\n",
    "        3\n",
    "    )\n",
    "\n",
    "    cv2.rectangle(\n",
    "        thresh_color,\n",
    "        (x_top_left_corner, y_top_left_corner),\n",
    "        (x_bottom_right_corner, y_bottom_right_corner),\n",
    "        (0,255,0),\n",
    "        3\n",
    "    )\n",
    "\n",
    "#     crop_img = img[\n",
    "#         y_top_left_corner:y_bottom_right_corner, \n",
    "#         x_top_left_corner:x_bottom_right_corner\n",
    "#     ]\n",
    "\n",
    "#     cv2.imwrite(temp_file, crop_img) \n",
    "\n",
    "    # remove temp file\n",
    "    # os.remove(temp_file)\n",
    "\n",
    "# Finally show the image\n",
    "cv2.imwrite('img.jpg',img)\n",
    "# cv2.imwrite('res.jpg',thresh_color)"
   ]
  },
  {
   "cell_type": "code",
   "execution_count": null,
   "metadata": {},
   "outputs": [],
   "source": []
  }
 ],
 "metadata": {
  "kernelspec": {
   "display_name": "Python 3",
   "language": "python",
   "name": "python3"
  }
 },
 "nbformat": 4,
 "nbformat_minor": 4
}
